{
 "cells": [
  {
   "cell_type": "markdown",
   "id": "b799c7a0",
   "metadata": {},
   "source": [
    "Note\n",
    "Training Notebook cannot run at kaggle platform (because many memory is requied to run).\n",
    "If you want to execute this code, you need to prepare own computations (out of kaggle).\n",
    "\n",
    "Baseline notebooks:  \n",
    "Preprocessing : https://www.kaggle.com/code/motono0223/js24-preprocessing-create-lags  \n",
    "Training (Code only) : this notebook https://www.kaggle.com/code/motono0223/js24-train-gbdt-model-with-lags-singlemodel  \n",
    "trained model : https://www.kaggle.com/datasets/motono0223/js24-trained-gbdt-model  \n",
    "Inference : https://www.kaggle.com/code/motono0223/js24-inference-gbdt-with-lags-singlemodel  \n",
    "EDA(1) : https://www.kaggle.com/code/motono0223/eda-jane-street-real-time-market-data-forecasting  \n",
    "EDA(2) : https://www.kaggle.com/code/motono0223/eda-v2-jane-street-real-time-market-forecasting  "
   ]
  },
  {
   "cell_type": "code",
   "execution_count": null,
   "id": "143ca25d",
   "metadata": {},
   "outputs": [],
   "source": [
    "import pandas as pd\n",
    "import polars as pl\n",
    "import numpy as np\n",
    "import os\n",
    "from tqdm.auto import tqdm\n",
    "from matplotlib import pyplot as plt\n",
    "import pickle\n",
    "\n",
    "from sklearn.metrics import r2_score\n",
    "from lightgbm import LGBMRegressor\n",
    "import lightgbm as lgb\n",
    "from xgboost import XGBRegressor\n",
    "from catboost import CatBoostRegressor\n",
    "from sklearn.ensemble import VotingRegressor\n",
    "\n",
    "import warnings\n",
    "warnings.filterwarnings('ignore')\n",
    "pd.options.display.max_columns = None\n"
   ]
  },
  {
   "cell_type": "code",
   "execution_count": null,
   "id": "805a01e4",
   "metadata": {},
   "outputs": [],
   "source": [
    "class CONFIG:\n",
    "    seed = 42\n",
    "    target_col = \"responder_6\"\n",
    "    feature_cols = [\"symbol_id\", \"time_id\"] \\\n",
    "        + [f\"feature_{idx:02d}\" for idx in range(79)] \\\n",
    "        + [f\"responder_{idx}_lag_1\" for idx in range(9)]\n",
    "    categorical_cols = []"
   ]
  },
  {
   "cell_type": "code",
   "execution_count": null,
   "id": "62b5ba07",
   "metadata": {},
   "outputs": [],
   "source": [
    "train = pl.scan_parquet(\"/kaggle/input/js24-preprocessing-create-lags/training.parquet\").collect().to_pandas()\n",
    "valid = pl.scan_parquet(\"/kaggle/input/js24-preprocessing-create-lags/validation.parquet\").collect().to_pandas()\n",
    "train.shape, valid.shape"
   ]
  },
  {
   "cell_type": "code",
   "execution_count": null,
   "id": "1ac83fac",
   "metadata": {},
   "outputs": [],
   "source": [
    "# Trick of boosting LB score: 0.45->0.49\n",
    "train = pd.concat([train, valid]).reset_index(drop=True)\n",
    "train.shape"
   ]
  },
  {
   "cell_type": "code",
   "execution_count": null,
   "id": "d0a109bf",
   "metadata": {},
   "outputs": [],
   "source": [
    "def get_model(seed):\n",
    "    # XGBoost parameters\n",
    "    XGB_Params = {\n",
    "        'learning_rate': 0.05,\n",
    "        'max_depth': 6,\n",
    "        'n_estimators': 200,\n",
    "        'subsample': 0.8,\n",
    "        'colsample_bytree': 0.8,\n",
    "        'reg_alpha': 1,\n",
    "        'reg_lambda': 5,\n",
    "        'random_state': seed,\n",
    "        'tree_method': 'gpu_hist',\n",
    "        'device' : 'cuda',\n",
    "        'n_gpus' : 2,\n",
    "    }\n",
    "    \n",
    "    XGB_Model = XGBRegressor(**XGB_Params)\n",
    "    return XGB_Model"
   ]
  },
  {
   "cell_type": "code",
   "execution_count": null,
   "id": "a132eed7",
   "metadata": {},
   "outputs": [],
   "source": [
    "X_train = train[ CONFIG.feature_cols ]\n",
    "y_train = train[ CONFIG.target_col ]\n",
    "w_train = train[ \"weight\" ]\n",
    "X_valid = valid[ CONFIG.feature_cols ]\n",
    "y_valid = valid[ CONFIG.target_col ]\n",
    "w_valid = valid[ \"weight\" ]\n",
    "\n",
    "X_train.shape, y_train.shape, w_train.shape, X_valid.shape, y_valid.shape, w_valid.shape"
   ]
  },
  {
   "cell_type": "code",
   "execution_count": null,
   "id": "75fba7c3",
   "metadata": {},
   "outputs": [],
   "source": [
    "%%time\n",
    "model = get_model(CONFIG.seed)\n",
    "model.fit( X_train, y_train, sample_weight=w_train)"
   ]
  },
  {
   "cell_type": "code",
   "execution_count": null,
   "id": "9564f890",
   "metadata": {},
   "outputs": [],
   "source": [
    "y_pred_train1 = model.predict(X_train.iloc[:X_train.shape[0]//2])\n",
    "y_pred_train2 = model.predict(X_train.iloc[X_train.shape[0]//2:])\n",
    "train_score = r2_score(y_train, np.concatenate([y_pred_train1, y_pred_train2], axis=0), sample_weight=w_train )\n",
    "train_score"
   ]
  },
  {
   "cell_type": "code",
   "execution_count": null,
   "id": "6584937f",
   "metadata": {},
   "outputs": [],
   "source": [
    "y_pred_valid = model.predict(X_valid)\n",
    "valid_score = r2_score(y_valid, y_pred_valid, sample_weight=w_valid )\n",
    "valid_score"
   ]
  },
  {
   "cell_type": "code",
   "execution_count": null,
   "id": "f70f0f09",
   "metadata": {},
   "outputs": [],
   "source": [
    "y_pred_valid = model.predict(X_valid)\n",
    "valid_score = r2_score(y_valid, y_pred_valid, sample_weight=w_valid )\n",
    "valid_score"
   ]
  },
  {
   "cell_type": "code",
   "execution_count": null,
   "id": "a24cdb51",
   "metadata": {},
   "outputs": [],
   "source": [
    "cv_detail = { symbol_id : 0 for symbol_id in range(39) }\n",
    "for symbol_id, gdf in valid.groupby(\"symbol_id\"):\n",
    "    X_valid = gdf[ CONFIG.feature_cols ]\n",
    "    y_valid = gdf[ CONFIG.target_col ]\n",
    "    w_valid = gdf[ \"weight\" ]\n",
    "    y_pred_valid = model.predict(X_valid)\n",
    "    score = r2_score(y_valid, y_pred_valid, sample_weight=w_valid )\n",
    "    cv_detail[symbol_id] = score\n",
    "    \n",
    "    print(f\"symbol_id = {symbol_id}, score = {score:.5f}\")"
   ]
  },
  {
   "cell_type": "code",
   "execution_count": null,
   "id": "61958bcf",
   "metadata": {},
   "outputs": [],
   "source": [
    "sids = list(cv_detail.keys())\n",
    "plt.bar(sids, [cv_detail[sid] for sid in sids])\n",
    "plt.grid()\n",
    "plt.xlabel(\"symbol_id\")\n",
    "plt.ylabel(\"CV score\")\n",
    "plt.show()"
   ]
  },
  {
   "cell_type": "markdown",
   "id": "2e4e28c8",
   "metadata": {},
   "source": [
    "**Save Result**"
   ]
  },
  {
   "cell_type": "code",
   "execution_count": null,
   "id": "3c67ec82",
   "metadata": {},
   "outputs": [],
   "source": [
    "result = {\n",
    "    \"model\" : model,\n",
    "    \"cv\" : valid_score,\n",
    "    \"cv_detail\" : cv_detail,\n",
    "    \"y_mean\" : y_means,\n",
    "}\n",
    "with open(\"result.pkl\", \"wb\") as fp:\n",
    "    pickle.dump(result, fp)"
   ]
  }
 ],
 "metadata": {
  "kernelspec": {
   "display_name": "AI",
   "language": "python",
   "name": "python3"
  },
  "language_info": {
   "codemirror_mode": {
    "name": "ipython",
    "version": 3
   },
   "file_extension": ".py",
   "mimetype": "text/x-python",
   "name": "python",
   "nbconvert_exporter": "python",
   "pygments_lexer": "ipython3",
   "version": "3.13.7"
  }
 },
 "nbformat": 4,
 "nbformat_minor": 5
}
