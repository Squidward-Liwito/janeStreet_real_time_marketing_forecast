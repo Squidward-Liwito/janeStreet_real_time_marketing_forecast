{
 "cells": [
  {
   "cell_type": "markdown",
   "id": "10cb1725",
   "metadata": {
    "papermill": {
     "duration": 0.004507,
     "end_time": "2024-10-28T10:50:50.680870",
     "exception": false,
     "start_time": "2024-10-28T10:50:50.676363",
     "status": "completed"
    },
    "tags": []
   },
   "source": [
    "# Libraries"
   ]
  },
  {
   "cell_type": "code",
   "execution_count": 1,
   "id": "f62add46",
   "metadata": {
    "execution": {
     "iopub.execute_input": "2024-10-28T10:50:50.690409Z",
     "iopub.status.busy": "2024-10-28T10:50:50.689985Z",
     "iopub.status.idle": "2024-10-28T10:50:53.445438Z",
     "shell.execute_reply": "2024-10-28T10:50:53.444399Z"
    },
    "papermill": {
     "duration": 2.762986,
     "end_time": "2024-10-28T10:50:53.447975",
     "exception": false,
     "start_time": "2024-10-28T10:50:50.684989",
     "status": "completed"
    },
    "tags": []
   },
   "outputs": [],
   "source": [
    "import pandas as pd\n",
    "import polars as pl\n",
    "import numpy as np\n",
    "import gc\n",
    "from matplotlib import pyplot as plt\n",
    "import matplotlib.cm as cm\n",
    "from sklearn.model_selection import StratifiedGroupKFold"
   ]
  },
  {
   "cell_type": "markdown",
   "id": "d88bbf85",
   "metadata": {
    "papermill": {
     "duration": 0.00385,
     "end_time": "2024-10-28T10:50:53.456099",
     "exception": false,
     "start_time": "2024-10-28T10:50:53.452249",
     "status": "completed"
    },
    "tags": []
   },
   "source": [
    "# Configurations"
   ]
  },
  {
   "cell_type": "code",
   "execution_count": 2,
   "id": "95b20029",
   "metadata": {
    "execution": {
     "iopub.execute_input": "2024-10-28T10:50:53.465769Z",
     "iopub.status.busy": "2024-10-28T10:50:53.465156Z",
     "iopub.status.idle": "2024-10-28T10:50:53.471976Z",
     "shell.execute_reply": "2024-10-28T10:50:53.470759Z"
    },
    "papermill": {
     "duration": 0.014164,
     "end_time": "2024-10-28T10:50:53.474208",
     "exception": false,
     "start_time": "2024-10-28T10:50:53.460044",
     "status": "completed"
    },
    "tags": []
   },
   "outputs": [],
   "source": [
    "class CONFIG:\n",
    "    target_col = \"responder_6\"\n",
    "    lag_cols_original = [\"date_id\", \"symbol_id\"] + [f\"responder_{idx}\" for idx in range(9)]\n",
    "    lag_cols_rename = { f\"responder_{idx}\" : f\"responder_{idx}_lag_1\" for idx in range(9)}\n",
    "    valid_ratio = 0.05\n",
    "    start_dt = 1100\n",
    "# 设置数据路径\n",
    "DATA_PATH = \"/Users/liwito/OneDrive-HKUSTConnect/Create/kaggle/local/jane-street-real-time-market-data-forecasting\""
   ]
  },
  {
   "cell_type": "code",
   "execution_count": 13,
   "id": "b6602e8c",
   "metadata": {},
   "outputs": [
    {
     "name": "stdout",
     "output_type": "stream",
     "text": [
      "shape: (1_699, 2)\n",
      "┌─────────┬─────────┐\n",
      "│ date_id ┆ records │\n",
      "│ ---     ┆ ---     │\n",
      "│ i16     ┆ u32     │\n",
      "╞═════════╪═════════╡\n",
      "│ 271     ┆ 16980   │\n",
      "│ 161     ┆ 11037   │\n",
      "│ 792     ┆ 29040   │\n",
      "│ 432     ┆ 16980   │\n",
      "│ 1355    ┆ 37752   │\n",
      "│ …       ┆ …       │\n",
      "│ 1548    ┆ 37752   │\n",
      "│ 110     ┆ 11886   │\n",
      "│ 917     ┆ 30008   │\n",
      "│ 89      ┆ 12735   │\n",
      "│ 896     ┆ 30008   │\n",
      "└─────────┴─────────┘\n",
      "shape: (1, 2)\n",
      "┌─────────────────┬───────────────────┐\n",
      "│ remaining_dates ┆ remaining_records │\n",
      "│ ---             ┆ ---               │\n",
      "│ u32             ┆ u32               │\n",
      "╞═════════════════╪═══════════════════╡\n",
      "│ 598             ┆ 22104280          │\n",
      "└─────────────────┴───────────────────┘\n",
      "shape: (1, 2)\n",
      "┌─────────────┬───────────────┐\n",
      "│ total_dates ┆ total_records │\n",
      "│ ---         ┆ ---           │\n",
      "│ u32         ┆ u32           │\n",
      "╞═════════════╪═══════════════╡\n",
      "│ 1699        ┆ 47127338      │\n",
      "└─────────────┴───────────────┘\n"
     ]
    }
   ],
   "source": [
    "train = pl.scan_parquet(\n",
    "    f\"{DATA_PATH}/train.parquet\"\n",
    ")\n",
    "\n",
    "# train = pl.scan_parquet(\n",
    "#     f\"{DATA_PATH}/train.parquet\"\n",
    "# ).select(\n",
    "#     pl.col(\"date_id\").unique().sort()\n",
    "# ).collect().to_series().to_list()\n",
    "\n",
    "\n",
    "# print(f\"最小日期: {min(train)}\")\n",
    "# print(f\"最大日期: {max(train)}\")\n",
    "# print(f\"日期总数: {len(train)}\")\n",
    "# print(f\"日期列表: {train}\")  # 如果想看所有具体值\n",
    "\n",
    "# result = train.select(\n",
    "#     pl.col(\"date_id\").unique().sort()\n",
    "# ).with_columns(\n",
    "#     pl.col(\"date_id\").diff().alias(\"gap\")  # 计算相邻日期的间隔\n",
    "# ).collect()\n",
    "\n",
    "# print(\"日期间隔统计：\")\n",
    "# print(result)  # 可以看到日期是否连续\n",
    "\n",
    "# 查看过滤前后的数据量\n",
    "before_filter = train.select(\n",
    "    pl.col(\"date_id\").n_unique().alias(\"total_dates\"),\n",
    "    pl.len().alias(\"total_records\")\n",
    ").collect()\n",
    "\n",
    "after_filter = train.filter(\n",
    "    pl.col(\"date_id\").gt(1100)\n",
    ").select(\n",
    "    pl.col(\"date_id\").n_unique().alias(\"remaining_dates\"),\n",
    "    pl.len().alias(\"remaining_records\")\n",
    ").collect()\n",
    "\n",
    "# 计算每个日期的平均记录数\n",
    "records_per_date = train.group_by(\"date_id\").agg(\n",
    "    pl.len().alias(\"records\")\n",
    ").collect()\n",
    "print(records_per_date)\n",
    "# print(records_per_date.shape)\n",
    "print(after_filter)\n",
    "# print(after_filter.shape)\n",
    "print(before_filter)\n",
    "# print(before_filter.shape)\n"
   ]
  },
  {
   "cell_type": "markdown",
   "id": "ac3b364d",
   "metadata": {
    "papermill": {
     "duration": 0.003748,
     "end_time": "2024-10-28T10:50:53.481903",
     "exception": false,
     "start_time": "2024-10-28T10:50:53.478155",
     "status": "completed"
    },
    "tags": []
   },
   "source": [
    "# Load training data"
   ]
  },
  {
   "cell_type": "code",
   "execution_count": null,
   "id": "107eaeea",
   "metadata": {
    "execution": {
     "iopub.execute_input": "2024-10-28T10:50:53.491659Z",
     "iopub.status.busy": "2024-10-28T10:50:53.491243Z",
     "iopub.status.idle": "2024-10-28T10:50:53.528349Z",
     "shell.execute_reply": "2024-10-28T10:50:53.527277Z"
    },
    "papermill": {
     "duration": 0.04486,
     "end_time": "2024-10-28T10:50:53.530904",
     "exception": false,
     "start_time": "2024-10-28T10:50:53.486044",
     "status": "completed"
    },
    "tags": []
   },
   "outputs": [],
   "source": [
    "# Use last 2 parquets\n",
    "train = pl.scan_parquet(\n",
    "    f\"{DATA_PATH}/train.parquet\"\n",
    ").select(\n",
    "    pl.int_range(pl.len(), dtype=pl.UInt32).alias(\"id\"),\n",
    "    pl.all(),\n",
    ").with_columns(\n",
    "    (pl.col(CONFIG.target_col)*2).cast(pl.Int32).alias(\"label\"),\n",
    ").filter(\n",
    "    pl.col(\"date_id\").gt(CONFIG.start_dt)\n",
    ")"
   ]
  },
  {
   "cell_type": "markdown",
   "id": "5d6893d5",
   "metadata": {
    "papermill": {
     "duration": 0.003601,
     "end_time": "2024-10-28T10:50:53.538424",
     "exception": false,
     "start_time": "2024-10-28T10:50:53.534823",
     "status": "completed"
    },
    "tags": []
   },
   "source": [
    "# Create Lags data from training data"
   ]
  },
  {
   "cell_type": "code",
   "execution_count": 4,
   "id": "4888f45b",
   "metadata": {
    "execution": {
     "iopub.execute_input": "2024-10-28T10:50:53.547969Z",
     "iopub.status.busy": "2024-10-28T10:50:53.547541Z",
     "iopub.status.idle": "2024-10-28T10:50:53.893220Z",
     "shell.execute_reply": "2024-10-28T10:50:53.892075Z"
    },
    "papermill": {
     "duration": 0.353197,
     "end_time": "2024-10-28T10:50:53.895572",
     "exception": false,
     "start_time": "2024-10-28T10:50:53.542375",
     "status": "completed"
    },
    "tags": []
   },
   "outputs": [
    {
     "data": {
      "text/html": [
       "<h4>NAIVE QUERY PLAN</h4><p>run <b>LazyFrame.show_graph()</b> to see the optimized version</p><?xml version=\"1.0\" encoding=\"UTF-8\" standalone=\"no\"?>\n",
       "<!DOCTYPE svg PUBLIC \"-//W3C//DTD SVG 1.1//EN\"\n",
       " \"http://www.w3.org/Graphics/SVG/1.1/DTD/svg11.dtd\">\n",
       "<!-- Generated by graphviz version 12.0.0 (20240803.0821)\n",
       " -->\n",
       "<!-- Title: polars_query Pages: 1 -->\n",
       "<svg width=\"2108pt\" height=\"578pt\"\n",
       " viewBox=\"0.00 0.00 2107.50 578.25\" xmlns=\"http://www.w3.org/2000/svg\" xmlns:xlink=\"http://www.w3.org/1999/xlink\">\n",
       "<g id=\"graph0\" class=\"graph\" transform=\"scale(1 1) rotate(0) translate(4 574.25)\">\n",
       "<title>polars_query</title>\n",
       "<polygon fill=\"white\" stroke=\"none\" points=\"-4,4 -4,-574.25 2103.5,-574.25 2103.5,4 -4,4\"/>\n",
       "<!-- p1 -->\n",
       "<g id=\"node1\" class=\"node\">\n",
       "<title>p1</title>\n",
       "<polygon fill=\"none\" stroke=\"black\" points=\"2099.5,-570.25 0,-570.25 0,-510.5 2099.5,-510.5 2099.5,-570.25\"/>\n",
       "<text text-anchor=\"middle\" x=\"1049.75\" y=\"-552.95\" font-family=\"Times,serif\" font-size=\"14.00\">AGG [col(&quot;responder_0_lag_1&quot;).last(), col(&quot;responder_1_lag_1&quot;).last(), col(&quot;responder_2_lag_1&quot;).last(), col(&quot;responder_3_lag_1&quot;).last(), col(&quot;responder_4_lag_1&quot;).last(), col(&quot;responder_5_lag_1&quot;).last(), col(&quot;responder_6_lag_1&quot;).last(), col(&quot;responder_7_lag_1&quot;).last(), col(&quot;responder_8_lag_1&quot;).last()]</text>\n",
       "<text text-anchor=\"middle\" x=\"1049.75\" y=\"-535.7\" font-family=\"Times,serif\" font-size=\"14.00\">BY</text>\n",
       "<text text-anchor=\"middle\" x=\"1049.75\" y=\"-518.45\" font-family=\"Times,serif\" font-size=\"14.00\">[col(&quot;date_id&quot;), col(&quot;symbol_id&quot;)]</text>\n",
       "</g>\n",
       "<!-- p2 -->\n",
       "<g id=\"node2\" class=\"node\">\n",
       "<title>p2</title>\n",
       "<polygon fill=\"none\" stroke=\"black\" points=\"1262.12,-474.5 837.38,-474.5 837.38,-438.5 1262.12,-438.5 1262.12,-474.5\"/>\n",
       "<text text-anchor=\"middle\" x=\"1049.75\" y=\"-451.82\" font-family=\"Times,serif\" font-size=\"14.00\">WITH COLUMNS [[(col(&quot;date_id&quot;)) + (1)].alias(&quot;date_id&quot;)]</text>\n",
       "</g>\n",
       "<!-- p1&#45;&#45;p2 -->\n",
       "<g id=\"edge1\" class=\"edge\">\n",
       "<title>p1&#45;&#45;p2</title>\n",
       "<path fill=\"none\" stroke=\"black\" d=\"M1049.75,-510.28C1049.75,-498.33 1049.75,-484.9 1049.75,-474.59\"/>\n",
       "</g>\n",
       "<!-- p3 -->\n",
       "<g id=\"node3\" class=\"node\">\n",
       "<title>p3</title>\n",
       "<polygon fill=\"none\" stroke=\"black\" points=\"1091.5,-402.5 1008,-402.5 1008,-366.5 1091.5,-366.5 1091.5,-402.5\"/>\n",
       "<text text-anchor=\"middle\" x=\"1049.75\" y=\"-379.82\" font-family=\"Times,serif\" font-size=\"14.00\">RENAME</text>\n",
       "</g>\n",
       "<!-- p2&#45;&#45;p3 -->\n",
       "<g id=\"edge2\" class=\"edge\">\n",
       "<title>p2&#45;&#45;p3</title>\n",
       "<path fill=\"none\" stroke=\"black\" d=\"M1049.75,-438.2C1049.75,-427.35 1049.75,-413.42 1049.75,-402.6\"/>\n",
       "</g>\n",
       "<!-- p4 -->\n",
       "<g id=\"node4\" class=\"node\">\n",
       "<title>p4</title>\n",
       "<polygon fill=\"none\" stroke=\"black\" points=\"1084.75,-330.5 1014.75,-330.5 1014.75,-294.5 1084.75,-294.5 1084.75,-330.5\"/>\n",
       "<text text-anchor=\"middle\" x=\"1049.75\" y=\"-307.82\" font-family=\"Times,serif\" font-size=\"14.00\">π 11/11</text>\n",
       "</g>\n",
       "<!-- p3&#45;&#45;p4 -->\n",
       "<g id=\"edge3\" class=\"edge\">\n",
       "<title>p3&#45;&#45;p4</title>\n",
       "<path fill=\"none\" stroke=\"black\" d=\"M1049.75,-366.2C1049.75,-355.35 1049.75,-341.42 1049.75,-330.6\"/>\n",
       "</g>\n",
       "<!-- p5 -->\n",
       "<g id=\"node5\" class=\"node\">\n",
       "<title>p5</title>\n",
       "<polygon fill=\"none\" stroke=\"black\" points=\"1190.5,-258.5 909,-258.5 909,-222.5 1190.5,-222.5 1190.5,-258.5\"/>\n",
       "<text text-anchor=\"middle\" x=\"1049.75\" y=\"-235.82\" font-family=\"Times,serif\" font-size=\"14.00\">FILTER BY [(col(&quot;date_id&quot;)) &gt; (1100)]</text>\n",
       "</g>\n",
       "<!-- p4&#45;&#45;p5 -->\n",
       "<g id=\"edge4\" class=\"edge\">\n",
       "<title>p4&#45;&#45;p5</title>\n",
       "<path fill=\"none\" stroke=\"black\" d=\"M1049.75,-294.2C1049.75,-283.35 1049.75,-269.42 1049.75,-258.6\"/>\n",
       "</g>\n",
       "<!-- p6 -->\n",
       "<g id=\"node6\" class=\"node\">\n",
       "<title>p6</title>\n",
       "<polygon fill=\"none\" stroke=\"black\" points=\"1339.75,-186.5 759.75,-186.5 759.75,-150.5 1339.75,-150.5 1339.75,-186.5\"/>\n",
       "<text text-anchor=\"middle\" x=\"1049.75\" y=\"-163.82\" font-family=\"Times,serif\" font-size=\"14.00\">WITH COLUMNS [[(col(&quot;responder_6&quot;)) * (2.0)].strict_cast(Int32).alias(&quot;label&quot;)]</text>\n",
       "</g>\n",
       "<!-- p5&#45;&#45;p6 -->\n",
       "<g id=\"edge5\" class=\"edge\">\n",
       "<title>p5&#45;&#45;p6</title>\n",
       "<path fill=\"none\" stroke=\"black\" d=\"M1049.75,-222.2C1049.75,-211.35 1049.75,-197.42 1049.75,-186.6\"/>\n",
       "</g>\n",
       "<!-- p7 -->\n",
       "<g id=\"node7\" class=\"node\">\n",
       "<title>p7</title>\n",
       "<polygon fill=\"none\" stroke=\"black\" points=\"1084.75,-114.5 1014.75,-114.5 1014.75,-78.5 1084.75,-78.5 1084.75,-114.5\"/>\n",
       "<text text-anchor=\"middle\" x=\"1049.75\" y=\"-91.83\" font-family=\"Times,serif\" font-size=\"14.00\">π 94/94</text>\n",
       "</g>\n",
       "<!-- p6&#45;&#45;p7 -->\n",
       "<g id=\"edge6\" class=\"edge\">\n",
       "<title>p6&#45;&#45;p7</title>\n",
       "<path fill=\"none\" stroke=\"black\" d=\"M1049.75,-150.2C1049.75,-139.35 1049.75,-125.42 1049.75,-114.6\"/>\n",
       "</g>\n",
       "<!-- p8 -->\n",
       "<g id=\"node8\" class=\"node\">\n",
       "<title>p8</title>\n",
       "<polygon fill=\"none\" stroke=\"black\" points=\"1554.25,-42.5 545.25,-42.5 545.25,0 1554.25,0 1554.25,-42.5\"/>\n",
       "<text text-anchor=\"middle\" x=\"1049.75\" y=\"-25.2\" font-family=\"Times,serif\" font-size=\"14.00\">Parquet SCAN [/kaggle/input/jane&#45;street&#45;real&#45;time&#45;market&#45;data&#45;forecasting/train.parquet/partition_id=0/part&#45;0.parquet, ... 9 other sources]</text>\n",
       "<text text-anchor=\"middle\" x=\"1049.75\" y=\"-7.95\" font-family=\"Times,serif\" font-size=\"14.00\">π */93;</text>\n",
       "</g>\n",
       "<!-- p7&#45;&#45;p8 -->\n",
       "<g id=\"edge7\" class=\"edge\">\n",
       "<title>p7&#45;&#45;p8</title>\n",
       "<path fill=\"none\" stroke=\"black\" d=\"M1049.75,-78.14C1049.75,-67.56 1049.75,-53.99 1049.75,-42.87\"/>\n",
       "</g>\n",
       "</g>\n",
       "</svg>\n"
      ],
      "text/plain": [
       "<LazyFrame at 0x7DC7B66E8970>"
      ]
     },
     "execution_count": 4,
     "metadata": {},
     "output_type": "execute_result"
    }
   ],
   "source": [
    "lags = train.select(pl.col(CONFIG.lag_cols_original))\n",
    "lags = lags.rename(CONFIG.lag_cols_rename)\n",
    "lags = lags.with_columns(\n",
    "    date_id = pl.col('date_id') + 1,  # lagged by 1 day\n",
    "    )\n",
    "lags = lags.group_by([\"date_id\", \"symbol_id\"], maintain_order=True).last()  # pick up last record of previous date\n",
    "lags"
   ]
  },
  {
   "cell_type": "markdown",
   "id": "2114e63c",
   "metadata": {
    "papermill": {
     "duration": 0.003961,
     "end_time": "2024-10-28T10:50:53.904002",
     "exception": false,
     "start_time": "2024-10-28T10:50:53.900041",
     "status": "completed"
    },
    "tags": []
   },
   "source": [
    "# Merge training data and lags data"
   ]
  },
  {
   "cell_type": "code",
   "execution_count": 5,
   "id": "c9be8650",
   "metadata": {
    "execution": {
     "iopub.execute_input": "2024-10-28T10:50:53.915910Z",
     "iopub.status.busy": "2024-10-28T10:50:53.915156Z",
     "iopub.status.idle": "2024-10-28T10:50:53.945165Z",
     "shell.execute_reply": "2024-10-28T10:50:53.944004Z"
    },
    "papermill": {
     "duration": 0.038525,
     "end_time": "2024-10-28T10:50:53.947807",
     "exception": false,
     "start_time": "2024-10-28T10:50:53.909282",
     "status": "completed"
    },
    "tags": []
   },
   "outputs": [
    {
     "data": {
      "text/html": [
       "<h4>NAIVE QUERY PLAN</h4><p>run <b>LazyFrame.show_graph()</b> to see the optimized version</p><?xml version=\"1.0\" encoding=\"UTF-8\" standalone=\"no\"?>\n",
       "<!DOCTYPE svg PUBLIC \"-//W3C//DTD SVG 1.1//EN\"\n",
       " \"http://www.w3.org/Graphics/SVG/1.1/DTD/svg11.dtd\">\n",
       "<!-- Generated by graphviz version 12.0.0 (20240803.0821)\n",
       " -->\n",
       "<!-- Title: polars_query Pages: 1 -->\n",
       "<svg width=\"2771pt\" height=\"681pt\"\n",
       " viewBox=\"0.00 0.00 2771.25 680.50\" xmlns=\"http://www.w3.org/2000/svg\" xmlns:xlink=\"http://www.w3.org/1999/xlink\">\n",
       "<g id=\"graph0\" class=\"graph\" transform=\"scale(1 1) rotate(0) translate(4 676.5)\">\n",
       "<title>polars_query</title>\n",
       "<polygon fill=\"white\" stroke=\"none\" points=\"-4,4 -4,-676.5 2767.25,-676.5 2767.25,4 -4,4\"/>\n",
       "<!-- p1 -->\n",
       "<g id=\"node1\" class=\"node\">\n",
       "<title>p1</title>\n",
       "<polygon fill=\"none\" stroke=\"black\" points=\"1254.12,-672.5 962.88,-672.5 962.88,-612.75 1254.12,-612.75 1254.12,-672.5\"/>\n",
       "<text text-anchor=\"middle\" x=\"1108.5\" y=\"-655.2\" font-family=\"Times,serif\" font-size=\"14.00\">JOIN LEFT</text>\n",
       "<text text-anchor=\"middle\" x=\"1108.5\" y=\"-637.95\" font-family=\"Times,serif\" font-size=\"14.00\">left: [col(&quot;date_id&quot;), col(&quot;symbol_id&quot;)];</text>\n",
       "<text text-anchor=\"middle\" x=\"1108.5\" y=\"-620.7\" font-family=\"Times,serif\" font-size=\"14.00\">right: [col(&quot;date_id&quot;), col(&quot;symbol_id&quot;)]</text>\n",
       "</g>\n",
       "<!-- p2 -->\n",
       "<g id=\"node2\" class=\"node\">\n",
       "<title>p2</title>\n",
       "<polygon fill=\"none\" stroke=\"black\" points=\"645.25,-564.88 363.75,-564.88 363.75,-528.88 645.25,-528.88 645.25,-564.88\"/>\n",
       "<text text-anchor=\"middle\" x=\"504.5\" y=\"-542.2\" font-family=\"Times,serif\" font-size=\"14.00\">FILTER BY [(col(&quot;date_id&quot;)) &gt; (1100)]</text>\n",
       "</g>\n",
       "<!-- p1&#45;&#45;p2 -->\n",
       "<g id=\"edge1\" class=\"edge\">\n",
       "<title>p1&#45;&#45;p2</title>\n",
       "<path fill=\"none\" stroke=\"black\" d=\"M962.54,-622.59C873.39,-610.51 757.17,-593.96 654.5,-576.75 633.97,-573.31 611.92,-569.26 591.23,-565.31\"/>\n",
       "</g>\n",
       "<!-- p6 -->\n",
       "<g id=\"node6\" class=\"node\">\n",
       "<title>p6</title>\n",
       "<polygon fill=\"none\" stroke=\"black\" points=\"2763.25,-576.75 663.75,-576.75 663.75,-517 2763.25,-517 2763.25,-576.75\"/>\n",
       "<text text-anchor=\"middle\" x=\"1713.5\" y=\"-559.45\" font-family=\"Times,serif\" font-size=\"14.00\">AGG [col(&quot;responder_0_lag_1&quot;).last(), col(&quot;responder_1_lag_1&quot;).last(), col(&quot;responder_2_lag_1&quot;).last(), col(&quot;responder_3_lag_1&quot;).last(), col(&quot;responder_4_lag_1&quot;).last(), col(&quot;responder_5_lag_1&quot;).last(), col(&quot;responder_6_lag_1&quot;).last(), col(&quot;responder_7_lag_1&quot;).last(), col(&quot;responder_8_lag_1&quot;).last()]</text>\n",
       "<text text-anchor=\"middle\" x=\"1713.5\" y=\"-542.2\" font-family=\"Times,serif\" font-size=\"14.00\">BY</text>\n",
       "<text text-anchor=\"middle\" x=\"1713.5\" y=\"-524.95\" font-family=\"Times,serif\" font-size=\"14.00\">[col(&quot;date_id&quot;), col(&quot;symbol_id&quot;)]</text>\n",
       "</g>\n",
       "<!-- p1&#45;&#45;p6 -->\n",
       "<g id=\"edge5\" class=\"edge\">\n",
       "<title>p1&#45;&#45;p6</title>\n",
       "<path fill=\"none\" stroke=\"black\" d=\"M1254.57,-618.99C1335.52,-606.45 1437.09,-590.71 1524.08,-577.23\"/>\n",
       "</g>\n",
       "<!-- p3 -->\n",
       "<g id=\"node3\" class=\"node\">\n",
       "<title>p3</title>\n",
       "<polygon fill=\"none\" stroke=\"black\" points=\"794.5,-481 214.5,-481 214.5,-445 794.5,-445 794.5,-481\"/>\n",
       "<text text-anchor=\"middle\" x=\"504.5\" y=\"-458.32\" font-family=\"Times,serif\" font-size=\"14.00\">WITH COLUMNS [[(col(&quot;responder_6&quot;)) * (2.0)].strict_cast(Int32).alias(&quot;label&quot;)]</text>\n",
       "</g>\n",
       "<!-- p2&#45;&#45;p3 -->\n",
       "<g id=\"edge2\" class=\"edge\">\n",
       "<title>p2&#45;&#45;p3</title>\n",
       "<path fill=\"none\" stroke=\"black\" d=\"M504.5,-528.51C504.5,-514.62 504.5,-495.23 504.5,-481.34\"/>\n",
       "</g>\n",
       "<!-- p4 -->\n",
       "<g id=\"node4\" class=\"node\">\n",
       "<title>p4</title>\n",
       "<polygon fill=\"none\" stroke=\"black\" points=\"539.5,-409 469.5,-409 469.5,-373 539.5,-373 539.5,-409\"/>\n",
       "<text text-anchor=\"middle\" x=\"504.5\" y=\"-386.32\" font-family=\"Times,serif\" font-size=\"14.00\">π 94/94</text>\n",
       "</g>\n",
       "<!-- p3&#45;&#45;p4 -->\n",
       "<g id=\"edge3\" class=\"edge\">\n",
       "<title>p3&#45;&#45;p4</title>\n",
       "<path fill=\"none\" stroke=\"black\" d=\"M504.5,-444.7C504.5,-433.85 504.5,-419.92 504.5,-409.1\"/>\n",
       "</g>\n",
       "<!-- p5 -->\n",
       "<g id=\"node5\" class=\"node\">\n",
       "<title>p5</title>\n",
       "<polygon fill=\"none\" stroke=\"black\" points=\"1009,-337 0,-337 0,-294.5 1009,-294.5 1009,-337\"/>\n",
       "<text text-anchor=\"middle\" x=\"504.5\" y=\"-319.7\" font-family=\"Times,serif\" font-size=\"14.00\">Parquet SCAN [/kaggle/input/jane&#45;street&#45;real&#45;time&#45;market&#45;data&#45;forecasting/train.parquet/partition_id=0/part&#45;0.parquet, ... 9 other sources]</text>\n",
       "<text text-anchor=\"middle\" x=\"504.5\" y=\"-302.45\" font-family=\"Times,serif\" font-size=\"14.00\">π */93;</text>\n",
       "</g>\n",
       "<!-- p4&#45;&#45;p5 -->\n",
       "<g id=\"edge4\" class=\"edge\">\n",
       "<title>p4&#45;&#45;p5</title>\n",
       "<path fill=\"none\" stroke=\"black\" d=\"M504.5,-372.64C504.5,-362.06 504.5,-348.49 504.5,-337.37\"/>\n",
       "</g>\n",
       "<!-- p7 -->\n",
       "<g id=\"node7\" class=\"node\">\n",
       "<title>p7</title>\n",
       "<polygon fill=\"none\" stroke=\"black\" points=\"1925.88,-481 1501.12,-481 1501.12,-445 1925.88,-445 1925.88,-481\"/>\n",
       "<text text-anchor=\"middle\" x=\"1713.5\" y=\"-458.32\" font-family=\"Times,serif\" font-size=\"14.00\">WITH COLUMNS [[(col(&quot;date_id&quot;)) + (1)].alias(&quot;date_id&quot;)]</text>\n",
       "</g>\n",
       "<!-- p6&#45;&#45;p7 -->\n",
       "<g id=\"edge6\" class=\"edge\">\n",
       "<title>p6&#45;&#45;p7</title>\n",
       "<path fill=\"none\" stroke=\"black\" d=\"M1713.5,-516.78C1713.5,-504.83 1713.5,-491.4 1713.5,-481.09\"/>\n",
       "</g>\n",
       "<!-- p8 -->\n",
       "<g id=\"node8\" class=\"node\">\n",
       "<title>p8</title>\n",
       "<polygon fill=\"none\" stroke=\"black\" points=\"1755.25,-409 1671.75,-409 1671.75,-373 1755.25,-373 1755.25,-409\"/>\n",
       "<text text-anchor=\"middle\" x=\"1713.5\" y=\"-386.32\" font-family=\"Times,serif\" font-size=\"14.00\">RENAME</text>\n",
       "</g>\n",
       "<!-- p7&#45;&#45;p8 -->\n",
       "<g id=\"edge7\" class=\"edge\">\n",
       "<title>p7&#45;&#45;p8</title>\n",
       "<path fill=\"none\" stroke=\"black\" d=\"M1713.5,-444.7C1713.5,-433.85 1713.5,-419.92 1713.5,-409.1\"/>\n",
       "</g>\n",
       "<!-- p9 -->\n",
       "<g id=\"node9\" class=\"node\">\n",
       "<title>p9</title>\n",
       "<polygon fill=\"none\" stroke=\"black\" points=\"1748.5,-333.75 1678.5,-333.75 1678.5,-297.75 1748.5,-297.75 1748.5,-333.75\"/>\n",
       "<text text-anchor=\"middle\" x=\"1713.5\" y=\"-311.07\" font-family=\"Times,serif\" font-size=\"14.00\">π 11/11</text>\n",
       "</g>\n",
       "<!-- p8&#45;&#45;p9 -->\n",
       "<g id=\"edge8\" class=\"edge\">\n",
       "<title>p8&#45;&#45;p9</title>\n",
       "<path fill=\"none\" stroke=\"black\" d=\"M1713.5,-372.64C1713.5,-361.05 1713.5,-345.86 1713.5,-334.24\"/>\n",
       "</g>\n",
       "<!-- p10 -->\n",
       "<g id=\"node10\" class=\"node\">\n",
       "<title>p10</title>\n",
       "<polygon fill=\"none\" stroke=\"black\" points=\"1854.25,-258.5 1572.75,-258.5 1572.75,-222.5 1854.25,-222.5 1854.25,-258.5\"/>\n",
       "<text text-anchor=\"middle\" x=\"1713.5\" y=\"-235.82\" font-family=\"Times,serif\" font-size=\"14.00\">FILTER BY [(col(&quot;date_id&quot;)) &gt; (1100)]</text>\n",
       "</g>\n",
       "<!-- p9&#45;&#45;p10 -->\n",
       "<g id=\"edge9\" class=\"edge\">\n",
       "<title>p9&#45;&#45;p10</title>\n",
       "<path fill=\"none\" stroke=\"black\" d=\"M1713.5,-297.39C1713.5,-285.8 1713.5,-270.61 1713.5,-258.99\"/>\n",
       "</g>\n",
       "<!-- p11 -->\n",
       "<g id=\"node11\" class=\"node\">\n",
       "<title>p11</title>\n",
       "<polygon fill=\"none\" stroke=\"black\" points=\"2003.5,-186.5 1423.5,-186.5 1423.5,-150.5 2003.5,-150.5 2003.5,-186.5\"/>\n",
       "<text text-anchor=\"middle\" x=\"1713.5\" y=\"-163.82\" font-family=\"Times,serif\" font-size=\"14.00\">WITH COLUMNS [[(col(&quot;responder_6&quot;)) * (2.0)].strict_cast(Int32).alias(&quot;label&quot;)]</text>\n",
       "</g>\n",
       "<!-- p10&#45;&#45;p11 -->\n",
       "<g id=\"edge10\" class=\"edge\">\n",
       "<title>p10&#45;&#45;p11</title>\n",
       "<path fill=\"none\" stroke=\"black\" d=\"M1713.5,-222.2C1713.5,-211.35 1713.5,-197.42 1713.5,-186.6\"/>\n",
       "</g>\n",
       "<!-- p12 -->\n",
       "<g id=\"node12\" class=\"node\">\n",
       "<title>p12</title>\n",
       "<polygon fill=\"none\" stroke=\"black\" points=\"1748.5,-114.5 1678.5,-114.5 1678.5,-78.5 1748.5,-78.5 1748.5,-114.5\"/>\n",
       "<text text-anchor=\"middle\" x=\"1713.5\" y=\"-91.83\" font-family=\"Times,serif\" font-size=\"14.00\">π 94/94</text>\n",
       "</g>\n",
       "<!-- p11&#45;&#45;p12 -->\n",
       "<g id=\"edge11\" class=\"edge\">\n",
       "<title>p11&#45;&#45;p12</title>\n",
       "<path fill=\"none\" stroke=\"black\" d=\"M1713.5,-150.2C1713.5,-139.35 1713.5,-125.42 1713.5,-114.6\"/>\n",
       "</g>\n",
       "<!-- p13 -->\n",
       "<g id=\"node13\" class=\"node\">\n",
       "<title>p13</title>\n",
       "<polygon fill=\"none\" stroke=\"black\" points=\"2218,-42.5 1209,-42.5 1209,0 2218,0 2218,-42.5\"/>\n",
       "<text text-anchor=\"middle\" x=\"1713.5\" y=\"-25.2\" font-family=\"Times,serif\" font-size=\"14.00\">Parquet SCAN [/kaggle/input/jane&#45;street&#45;real&#45;time&#45;market&#45;data&#45;forecasting/train.parquet/partition_id=0/part&#45;0.parquet, ... 9 other sources]</text>\n",
       "<text text-anchor=\"middle\" x=\"1713.5\" y=\"-7.95\" font-family=\"Times,serif\" font-size=\"14.00\">π */93;</text>\n",
       "</g>\n",
       "<!-- p12&#45;&#45;p13 -->\n",
       "<g id=\"edge12\" class=\"edge\">\n",
       "<title>p12&#45;&#45;p13</title>\n",
       "<path fill=\"none\" stroke=\"black\" d=\"M1713.5,-78.14C1713.5,-67.56 1713.5,-53.99 1713.5,-42.87\"/>\n",
       "</g>\n",
       "</g>\n",
       "</svg>\n"
      ],
      "text/plain": [
       "<LazyFrame at 0x7DC7B669BC40>"
      ]
     },
     "execution_count": 5,
     "metadata": {},
     "output_type": "execute_result"
    }
   ],
   "source": [
    "train = train.join(lags, on=[\"date_id\", \"symbol_id\"],  how=\"left\")\n",
    "train"
   ]
  },
  {
   "cell_type": "markdown",
   "id": "1f54a3c1",
   "metadata": {
    "papermill": {
     "duration": 0.004368,
     "end_time": "2024-10-28T10:50:53.957063",
     "exception": false,
     "start_time": "2024-10-28T10:50:53.952695",
     "status": "completed"
    },
    "tags": []
   },
   "source": [
    "# Split training data and validation data"
   ]
  },
  {
   "cell_type": "code",
   "execution_count": 6,
   "id": "c37b5d81",
   "metadata": {
    "execution": {
     "iopub.execute_input": "2024-10-28T10:50:53.968024Z",
     "iopub.status.busy": "2024-10-28T10:50:53.967611Z",
     "iopub.status.idle": "2024-10-28T10:50:57.287742Z",
     "shell.execute_reply": "2024-10-28T10:50:57.286619Z"
    },
    "papermill": {
     "duration": 3.328535,
     "end_time": "2024-10-28T10:50:57.290290",
     "exception": false,
     "start_time": "2024-10-28T10:50:53.961755",
     "status": "completed"
    },
    "tags": []
   },
   "outputs": [
    {
     "name": "stdout",
     "output_type": "stream",
     "text": [
      "\n",
      " len_train = 22104280\n",
      "\n",
      " len_ofl_mdl = 20999066\n",
      "\n",
      "---> Last offline train date = 1669\n",
      "\n"
     ]
    }
   ],
   "source": [
    "len_train   = train.select(pl.col(\"date_id\")).collect().shape[0]\n",
    "valid_records = int(len_train * CONFIG.valid_ratio)\n",
    "len_ofl_mdl = len_train - valid_records\n",
    "last_tr_dt  = train.select(pl.col(\"date_id\")).collect().row(len_ofl_mdl)[0]\n",
    "\n",
    "print(f\"\\n len_train = {len_train}\")\n",
    "print(f\"\\n len_ofl_mdl = {len_ofl_mdl}\")\n",
    "print(f\"\\n---> Last offline train date = {last_tr_dt}\\n\")\n",
    "\n",
    "training_data = train.filter(pl.col(\"date_id\").le(last_tr_dt))\n",
    "validation_data   = train.filter(pl.col(\"date_id\").gt(last_tr_dt))"
   ]
  },
  {
   "cell_type": "code",
   "execution_count": 7,
   "id": "7167d6fa",
   "metadata": {
    "execution": {
     "iopub.execute_input": "2024-10-28T10:50:57.302538Z",
     "iopub.status.busy": "2024-10-28T10:50:57.301604Z",
     "iopub.status.idle": "2024-10-28T10:50:57.328330Z",
     "shell.execute_reply": "2024-10-28T10:50:57.327276Z"
    },
    "papermill": {
     "duration": 0.035098,
     "end_time": "2024-10-28T10:50:57.330787",
     "exception": false,
     "start_time": "2024-10-28T10:50:57.295689",
     "status": "completed"
    },
    "tags": []
   },
   "outputs": [
    {
     "data": {
      "text/html": [
       "<h4>NAIVE QUERY PLAN</h4><p>run <b>LazyFrame.show_graph()</b> to see the optimized version</p><?xml version=\"1.0\" encoding=\"UTF-8\" standalone=\"no\"?>\n",
       "<!DOCTYPE svg PUBLIC \"-//W3C//DTD SVG 1.1//EN\"\n",
       " \"http://www.w3.org/Graphics/SVG/1.1/DTD/svg11.dtd\">\n",
       "<!-- Generated by graphviz version 12.0.0 (20240803.0821)\n",
       " -->\n",
       "<!-- Title: polars_query Pages: 1 -->\n",
       "<svg width=\"2771pt\" height=\"753pt\"\n",
       " viewBox=\"0.00 0.00 2771.25 752.50\" xmlns=\"http://www.w3.org/2000/svg\" xmlns:xlink=\"http://www.w3.org/1999/xlink\">\n",
       "<g id=\"graph0\" class=\"graph\" transform=\"scale(1 1) rotate(0) translate(4 748.5)\">\n",
       "<title>polars_query</title>\n",
       "<polygon fill=\"white\" stroke=\"none\" points=\"-4,4 -4,-748.5 2767.25,-748.5 2767.25,4 -4,4\"/>\n",
       "<!-- p1 -->\n",
       "<g id=\"node1\" class=\"node\">\n",
       "<title>p1</title>\n",
       "<polygon fill=\"none\" stroke=\"black\" points=\"1249.25,-744.5 967.75,-744.5 967.75,-708.5 1249.25,-708.5 1249.25,-744.5\"/>\n",
       "<text text-anchor=\"middle\" x=\"1108.5\" y=\"-721.83\" font-family=\"Times,serif\" font-size=\"14.00\">FILTER BY [(col(&quot;date_id&quot;)) &gt; (1669)]</text>\n",
       "</g>\n",
       "<!-- p2 -->\n",
       "<g id=\"node2\" class=\"node\">\n",
       "<title>p2</title>\n",
       "<polygon fill=\"none\" stroke=\"black\" points=\"1254.12,-672.5 962.88,-672.5 962.88,-612.75 1254.12,-612.75 1254.12,-672.5\"/>\n",
       "<text text-anchor=\"middle\" x=\"1108.5\" y=\"-655.2\" font-family=\"Times,serif\" font-size=\"14.00\">JOIN LEFT</text>\n",
       "<text text-anchor=\"middle\" x=\"1108.5\" y=\"-637.95\" font-family=\"Times,serif\" font-size=\"14.00\">left: [col(&quot;date_id&quot;), col(&quot;symbol_id&quot;)];</text>\n",
       "<text text-anchor=\"middle\" x=\"1108.5\" y=\"-620.7\" font-family=\"Times,serif\" font-size=\"14.00\">right: [col(&quot;date_id&quot;), col(&quot;symbol_id&quot;)]</text>\n",
       "</g>\n",
       "<!-- p1&#45;&#45;p2 -->\n",
       "<g id=\"edge1\" class=\"edge\">\n",
       "<title>p1&#45;&#45;p2</title>\n",
       "<path fill=\"none\" stroke=\"black\" d=\"M1108.5,-708.14C1108.5,-697.9 1108.5,-684.69 1108.5,-672.89\"/>\n",
       "</g>\n",
       "<!-- p3 -->\n",
       "<g id=\"node3\" class=\"node\">\n",
       "<title>p3</title>\n",
       "<polygon fill=\"none\" stroke=\"black\" points=\"645.25,-564.88 363.75,-564.88 363.75,-528.88 645.25,-528.88 645.25,-564.88\"/>\n",
       "<text text-anchor=\"middle\" x=\"504.5\" y=\"-542.2\" font-family=\"Times,serif\" font-size=\"14.00\">FILTER BY [(col(&quot;date_id&quot;)) &gt; (1100)]</text>\n",
       "</g>\n",
       "<!-- p2&#45;&#45;p3 -->\n",
       "<g id=\"edge2\" class=\"edge\">\n",
       "<title>p2&#45;&#45;p3</title>\n",
       "<path fill=\"none\" stroke=\"black\" d=\"M962.54,-622.59C873.39,-610.51 757.17,-593.96 654.5,-576.75 633.97,-573.31 611.92,-569.26 591.23,-565.31\"/>\n",
       "</g>\n",
       "<!-- p7 -->\n",
       "<g id=\"node7\" class=\"node\">\n",
       "<title>p7</title>\n",
       "<polygon fill=\"none\" stroke=\"black\" points=\"2763.25,-576.75 663.75,-576.75 663.75,-517 2763.25,-517 2763.25,-576.75\"/>\n",
       "<text text-anchor=\"middle\" x=\"1713.5\" y=\"-559.45\" font-family=\"Times,serif\" font-size=\"14.00\">AGG [col(&quot;responder_0_lag_1&quot;).last(), col(&quot;responder_1_lag_1&quot;).last(), col(&quot;responder_2_lag_1&quot;).last(), col(&quot;responder_3_lag_1&quot;).last(), col(&quot;responder_4_lag_1&quot;).last(), col(&quot;responder_5_lag_1&quot;).last(), col(&quot;responder_6_lag_1&quot;).last(), col(&quot;responder_7_lag_1&quot;).last(), col(&quot;responder_8_lag_1&quot;).last()]</text>\n",
       "<text text-anchor=\"middle\" x=\"1713.5\" y=\"-542.2\" font-family=\"Times,serif\" font-size=\"14.00\">BY</text>\n",
       "<text text-anchor=\"middle\" x=\"1713.5\" y=\"-524.95\" font-family=\"Times,serif\" font-size=\"14.00\">[col(&quot;date_id&quot;), col(&quot;symbol_id&quot;)]</text>\n",
       "</g>\n",
       "<!-- p2&#45;&#45;p7 -->\n",
       "<g id=\"edge6\" class=\"edge\">\n",
       "<title>p2&#45;&#45;p7</title>\n",
       "<path fill=\"none\" stroke=\"black\" d=\"M1254.57,-618.99C1335.52,-606.45 1437.09,-590.71 1524.08,-577.23\"/>\n",
       "</g>\n",
       "<!-- p4 -->\n",
       "<g id=\"node4\" class=\"node\">\n",
       "<title>p4</title>\n",
       "<polygon fill=\"none\" stroke=\"black\" points=\"794.5,-481 214.5,-481 214.5,-445 794.5,-445 794.5,-481\"/>\n",
       "<text text-anchor=\"middle\" x=\"504.5\" y=\"-458.32\" font-family=\"Times,serif\" font-size=\"14.00\">WITH COLUMNS [[(col(&quot;responder_6&quot;)) * (2.0)].strict_cast(Int32).alias(&quot;label&quot;)]</text>\n",
       "</g>\n",
       "<!-- p3&#45;&#45;p4 -->\n",
       "<g id=\"edge3\" class=\"edge\">\n",
       "<title>p3&#45;&#45;p4</title>\n",
       "<path fill=\"none\" stroke=\"black\" d=\"M504.5,-528.51C504.5,-514.62 504.5,-495.23 504.5,-481.34\"/>\n",
       "</g>\n",
       "<!-- p5 -->\n",
       "<g id=\"node5\" class=\"node\">\n",
       "<title>p5</title>\n",
       "<polygon fill=\"none\" stroke=\"black\" points=\"539.5,-409 469.5,-409 469.5,-373 539.5,-373 539.5,-409\"/>\n",
       "<text text-anchor=\"middle\" x=\"504.5\" y=\"-386.32\" font-family=\"Times,serif\" font-size=\"14.00\">π 94/94</text>\n",
       "</g>\n",
       "<!-- p4&#45;&#45;p5 -->\n",
       "<g id=\"edge4\" class=\"edge\">\n",
       "<title>p4&#45;&#45;p5</title>\n",
       "<path fill=\"none\" stroke=\"black\" d=\"M504.5,-444.7C504.5,-433.85 504.5,-419.92 504.5,-409.1\"/>\n",
       "</g>\n",
       "<!-- p6 -->\n",
       "<g id=\"node6\" class=\"node\">\n",
       "<title>p6</title>\n",
       "<polygon fill=\"none\" stroke=\"black\" points=\"1009,-337 0,-337 0,-294.5 1009,-294.5 1009,-337\"/>\n",
       "<text text-anchor=\"middle\" x=\"504.5\" y=\"-319.7\" font-family=\"Times,serif\" font-size=\"14.00\">Parquet SCAN [/kaggle/input/jane&#45;street&#45;real&#45;time&#45;market&#45;data&#45;forecasting/train.parquet/partition_id=0/part&#45;0.parquet, ... 9 other sources]</text>\n",
       "<text text-anchor=\"middle\" x=\"504.5\" y=\"-302.45\" font-family=\"Times,serif\" font-size=\"14.00\">π */93;</text>\n",
       "</g>\n",
       "<!-- p5&#45;&#45;p6 -->\n",
       "<g id=\"edge5\" class=\"edge\">\n",
       "<title>p5&#45;&#45;p6</title>\n",
       "<path fill=\"none\" stroke=\"black\" d=\"M504.5,-372.64C504.5,-362.06 504.5,-348.49 504.5,-337.37\"/>\n",
       "</g>\n",
       "<!-- p8 -->\n",
       "<g id=\"node8\" class=\"node\">\n",
       "<title>p8</title>\n",
       "<polygon fill=\"none\" stroke=\"black\" points=\"1925.88,-481 1501.12,-481 1501.12,-445 1925.88,-445 1925.88,-481\"/>\n",
       "<text text-anchor=\"middle\" x=\"1713.5\" y=\"-458.32\" font-family=\"Times,serif\" font-size=\"14.00\">WITH COLUMNS [[(col(&quot;date_id&quot;)) + (1)].alias(&quot;date_id&quot;)]</text>\n",
       "</g>\n",
       "<!-- p7&#45;&#45;p8 -->\n",
       "<g id=\"edge7\" class=\"edge\">\n",
       "<title>p7&#45;&#45;p8</title>\n",
       "<path fill=\"none\" stroke=\"black\" d=\"M1713.5,-516.78C1713.5,-504.83 1713.5,-491.4 1713.5,-481.09\"/>\n",
       "</g>\n",
       "<!-- p9 -->\n",
       "<g id=\"node9\" class=\"node\">\n",
       "<title>p9</title>\n",
       "<polygon fill=\"none\" stroke=\"black\" points=\"1755.25,-409 1671.75,-409 1671.75,-373 1755.25,-373 1755.25,-409\"/>\n",
       "<text text-anchor=\"middle\" x=\"1713.5\" y=\"-386.32\" font-family=\"Times,serif\" font-size=\"14.00\">RENAME</text>\n",
       "</g>\n",
       "<!-- p8&#45;&#45;p9 -->\n",
       "<g id=\"edge8\" class=\"edge\">\n",
       "<title>p8&#45;&#45;p9</title>\n",
       "<path fill=\"none\" stroke=\"black\" d=\"M1713.5,-444.7C1713.5,-433.85 1713.5,-419.92 1713.5,-409.1\"/>\n",
       "</g>\n",
       "<!-- p10 -->\n",
       "<g id=\"node10\" class=\"node\">\n",
       "<title>p10</title>\n",
       "<polygon fill=\"none\" stroke=\"black\" points=\"1748.5,-333.75 1678.5,-333.75 1678.5,-297.75 1748.5,-297.75 1748.5,-333.75\"/>\n",
       "<text text-anchor=\"middle\" x=\"1713.5\" y=\"-311.07\" font-family=\"Times,serif\" font-size=\"14.00\">π 11/11</text>\n",
       "</g>\n",
       "<!-- p9&#45;&#45;p10 -->\n",
       "<g id=\"edge9\" class=\"edge\">\n",
       "<title>p9&#45;&#45;p10</title>\n",
       "<path fill=\"none\" stroke=\"black\" d=\"M1713.5,-372.64C1713.5,-361.05 1713.5,-345.86 1713.5,-334.24\"/>\n",
       "</g>\n",
       "<!-- p11 -->\n",
       "<g id=\"node11\" class=\"node\">\n",
       "<title>p11</title>\n",
       "<polygon fill=\"none\" stroke=\"black\" points=\"1854.25,-258.5 1572.75,-258.5 1572.75,-222.5 1854.25,-222.5 1854.25,-258.5\"/>\n",
       "<text text-anchor=\"middle\" x=\"1713.5\" y=\"-235.82\" font-family=\"Times,serif\" font-size=\"14.00\">FILTER BY [(col(&quot;date_id&quot;)) &gt; (1100)]</text>\n",
       "</g>\n",
       "<!-- p10&#45;&#45;p11 -->\n",
       "<g id=\"edge10\" class=\"edge\">\n",
       "<title>p10&#45;&#45;p11</title>\n",
       "<path fill=\"none\" stroke=\"black\" d=\"M1713.5,-297.39C1713.5,-285.8 1713.5,-270.61 1713.5,-258.99\"/>\n",
       "</g>\n",
       "<!-- p12 -->\n",
       "<g id=\"node12\" class=\"node\">\n",
       "<title>p12</title>\n",
       "<polygon fill=\"none\" stroke=\"black\" points=\"2003.5,-186.5 1423.5,-186.5 1423.5,-150.5 2003.5,-150.5 2003.5,-186.5\"/>\n",
       "<text text-anchor=\"middle\" x=\"1713.5\" y=\"-163.82\" font-family=\"Times,serif\" font-size=\"14.00\">WITH COLUMNS [[(col(&quot;responder_6&quot;)) * (2.0)].strict_cast(Int32).alias(&quot;label&quot;)]</text>\n",
       "</g>\n",
       "<!-- p11&#45;&#45;p12 -->\n",
       "<g id=\"edge11\" class=\"edge\">\n",
       "<title>p11&#45;&#45;p12</title>\n",
       "<path fill=\"none\" stroke=\"black\" d=\"M1713.5,-222.2C1713.5,-211.35 1713.5,-197.42 1713.5,-186.6\"/>\n",
       "</g>\n",
       "<!-- p13 -->\n",
       "<g id=\"node13\" class=\"node\">\n",
       "<title>p13</title>\n",
       "<polygon fill=\"none\" stroke=\"black\" points=\"1748.5,-114.5 1678.5,-114.5 1678.5,-78.5 1748.5,-78.5 1748.5,-114.5\"/>\n",
       "<text text-anchor=\"middle\" x=\"1713.5\" y=\"-91.83\" font-family=\"Times,serif\" font-size=\"14.00\">π 94/94</text>\n",
       "</g>\n",
       "<!-- p12&#45;&#45;p13 -->\n",
       "<g id=\"edge12\" class=\"edge\">\n",
       "<title>p12&#45;&#45;p13</title>\n",
       "<path fill=\"none\" stroke=\"black\" d=\"M1713.5,-150.2C1713.5,-139.35 1713.5,-125.42 1713.5,-114.6\"/>\n",
       "</g>\n",
       "<!-- p14 -->\n",
       "<g id=\"node14\" class=\"node\">\n",
       "<title>p14</title>\n",
       "<polygon fill=\"none\" stroke=\"black\" points=\"2218,-42.5 1209,-42.5 1209,0 2218,0 2218,-42.5\"/>\n",
       "<text text-anchor=\"middle\" x=\"1713.5\" y=\"-25.2\" font-family=\"Times,serif\" font-size=\"14.00\">Parquet SCAN [/kaggle/input/jane&#45;street&#45;real&#45;time&#45;market&#45;data&#45;forecasting/train.parquet/partition_id=0/part&#45;0.parquet, ... 9 other sources]</text>\n",
       "<text text-anchor=\"middle\" x=\"1713.5\" y=\"-7.95\" font-family=\"Times,serif\" font-size=\"14.00\">π */93;</text>\n",
       "</g>\n",
       "<!-- p13&#45;&#45;p14 -->\n",
       "<g id=\"edge13\" class=\"edge\">\n",
       "<title>p13&#45;&#45;p14</title>\n",
       "<path fill=\"none\" stroke=\"black\" d=\"M1713.5,-78.14C1713.5,-67.56 1713.5,-53.99 1713.5,-42.87\"/>\n",
       "</g>\n",
       "</g>\n",
       "</svg>\n"
      ],
      "text/plain": [
       "<LazyFrame at 0x7DC7E3444940>"
      ]
     },
     "execution_count": 7,
     "metadata": {},
     "output_type": "execute_result"
    }
   ],
   "source": [
    "validation_data"
   ]
  },
  {
   "cell_type": "markdown",
   "id": "81fe7c1e",
   "metadata": {
    "papermill": {
     "duration": 0.004758,
     "end_time": "2024-10-28T10:50:57.340849",
     "exception": false,
     "start_time": "2024-10-28T10:50:57.336091",
     "status": "completed"
    },
    "tags": []
   },
   "source": [
    "# Save data as parquets"
   ]
  },
  {
   "cell_type": "code",
   "execution_count": 8,
   "id": "6c7b24f5",
   "metadata": {
    "execution": {
     "iopub.execute_input": "2024-10-28T10:50:57.352891Z",
     "iopub.status.busy": "2024-10-28T10:50:57.352024Z",
     "iopub.status.idle": "2024-10-28T10:52:19.675611Z",
     "shell.execute_reply": "2024-10-28T10:52:19.674557Z"
    },
    "papermill": {
     "duration": 82.332599,
     "end_time": "2024-10-28T10:52:19.678428",
     "exception": false,
     "start_time": "2024-10-28T10:50:57.345829",
     "status": "completed"
    },
    "tags": []
   },
   "outputs": [],
   "source": [
    "training_data.collect().\\\n",
    "write_parquet(\n",
    "    f\"training.parquet\", partition_by = \"date_id\",\n",
    ")"
   ]
  },
  {
   "cell_type": "code",
   "execution_count": 9,
   "id": "8dacc686",
   "metadata": {
    "execution": {
     "iopub.execute_input": "2024-10-28T10:52:19.691137Z",
     "iopub.status.busy": "2024-10-28T10:52:19.690690Z",
     "iopub.status.idle": "2024-10-28T10:53:09.731770Z",
     "shell.execute_reply": "2024-10-28T10:53:09.730583Z"
    },
    "papermill": {
     "duration": 50.050795,
     "end_time": "2024-10-28T10:53:09.735054",
     "exception": false,
     "start_time": "2024-10-28T10:52:19.684259",
     "status": "completed"
    },
    "tags": []
   },
   "outputs": [],
   "source": [
    "validation_data.collect().\\\n",
    "write_parquet(\n",
    "    \"validation.parquet\", partition_by = \"date_id\",\n",
    ")"
   ]
  }
 ],
 "metadata": {
  "kaggle": {
   "accelerator": "none",
   "dataSources": [
    {
     "databundleVersionId": 9871156,
     "sourceId": 84493,
     "sourceType": "competition"
    }
   ],
   "dockerImageVersionId": 30786,
   "isGpuEnabled": false,
   "isInternetEnabled": true,
   "language": "python",
   "sourceType": "notebook"
  },
  "kernelspec": {
   "display_name": "AI",
   "language": "python",
   "name": "python3"
  },
  "language_info": {
   "codemirror_mode": {
    "name": "ipython",
    "version": 3
   },
   "file_extension": ".py",
   "mimetype": "text/x-python",
   "name": "python",
   "nbconvert_exporter": "python",
   "pygments_lexer": "ipython3",
   "version": "3.13.7"
  },
  "papermill": {
   "default_parameters": {},
   "duration": 144.544038,
   "end_time": "2024-10-28T10:53:12.391324",
   "environment_variables": {},
   "exception": null,
   "input_path": "__notebook__.ipynb",
   "output_path": "__notebook__.ipynb",
   "parameters": {},
   "start_time": "2024-10-28T10:50:47.847286",
   "version": "2.6.0"
  }
 },
 "nbformat": 4,
 "nbformat_minor": 5
}
